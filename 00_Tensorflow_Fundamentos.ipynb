{
 "cells": [
  {
   "cell_type": "markdown",
   "id": "2f71fa23-7418-4a77-97cc-7b4d31195fb9",
   "metadata": {},
   "source": [
    "# Fundamentos de TensorFlow\n",
    "\n",
    "En este notebook se verá conceptos básico sobre Tensorflow.  \n",
    "\n",
    "Tensorflow es una biblioteca que está enfocada en la construcción de modelos de aprendizaje automático. "
   ]
  },
  {
   "cell_type": "code",
   "execution_count": 1,
   "id": "32e2015e-be51-462e-8ebf-848f836b5e91",
   "metadata": {},
   "outputs": [],
   "source": [
    "# Importamos Tensorflow\n",
    "import tensorflow as tf"
   ]
  },
  {
   "cell_type": "code",
   "execution_count": 2,
   "id": "22bad945-48eb-4d6f-977e-11805cfb612c",
   "metadata": {},
   "outputs": [
    {
     "name": "stdout",
     "output_type": "stream",
     "text": [
      "2.10.1\n"
     ]
    }
   ],
   "source": [
    "# Verificamos la versión que vamos a usar\n",
    "print(tf.__version__)"
   ]
  },
  {
   "cell_type": "markdown",
   "id": "cbcb0de1-dc1e-4f11-b837-908fced27f79",
   "metadata": {},
   "source": [
    "## Creación de Tensores\n",
    "\n",
    "Un tensor es un arreglo multidimensional de datos.\n",
    "\n",
    "Haremos uso de la función `tf.constant` para crear tensores.\n",
    "Esta tiene los siguientes parámetros:  \n",
    "* value: Objeto.\n",
    "* dtype: Tipo de dato de valor, si no se le especifica se deducirá de value\n",
    "* shape: Forma del Tensor resultante (Opcional)\n",
    "\n",
    "Para asignar el dtype, tener en cuenta la siguiente tabla.\n",
    "| Número de bits    | Valor mínimo | Valor máximo |\n",
    "| ----------------- | ------------ | ------------ |\n",
    "| 8 bits            | -128         | 127          |\n",
    "| 16 bits           | -32768       | 32767        |\n",
    "| 32 bits           | -2147483648  | 2147483647   |\n",
    "| 64 bits           | –2^63        | 2^63 - 1     |"
   ]
  },
  {
   "cell_type": "markdown",
   "id": "f911c5cd-71c9-4f06-8d98-3ecc072acfd6",
   "metadata": {},
   "source": [
    "### Scalar\n",
    "\n",
    "Creamos un tensor de tipo escalar. Le pasaremos un número como argumentos de `tf.constant`.  \n",
    "Los tensores escalares no tienen dimensión (0) ni forma (None)."
   ]
  },
  {
   "cell_type": "code",
   "execution_count": 3,
   "id": "c6032cb2-d635-4cec-bc02-d7316059b5f2",
   "metadata": {},
   "outputs": [
    {
     "data": {
      "text/plain": [
       "<tf.Tensor: shape=(), dtype=int16, numpy=77>"
      ]
     },
     "execution_count": 3,
     "metadata": {},
     "output_type": "execute_result"
    }
   ],
   "source": [
    "# Creamos el primer tensor\n",
    "scalar = tf.constant(77, dtype=tf.int16, shape=None)\n",
    "scalar"
   ]
  },
  {
   "cell_type": "code",
   "execution_count": 4,
   "id": "1e359af1-4d97-428f-9213-003f21905825",
   "metadata": {},
   "outputs": [
    {
     "data": {
      "text/plain": [
       "0"
      ]
     },
     "execution_count": 4,
     "metadata": {},
     "output_type": "execute_result"
    }
   ],
   "source": [
    "# Verificamos las dimensiones del tensor creado anteriormente\n",
    "scalar.ndim"
   ]
  },
  {
   "cell_type": "markdown",
   "id": "9efb1ecf-19d4-4ae5-ba97-e43375d37080",
   "metadata": {},
   "source": [
    "### Vector\n",
    "\n",
    "Un Tensor del tipo vector tiene una dimensión."
   ]
  },
  {
   "cell_type": "code",
   "execution_count": 5,
   "id": "618649c7-4108-4b63-80ff-a108f25bece9",
   "metadata": {},
   "outputs": [
    {
     "data": {
      "text/plain": [
       "<tf.Tensor: shape=(3,), dtype=int16, numpy=array([10,  8,  6], dtype=int16)>"
      ]
     },
     "execution_count": 5,
     "metadata": {},
     "output_type": "execute_result"
    }
   ],
   "source": [
    "# Creamos un vector\n",
    "vector = tf.constant([10,8,6], dtype=tf.int16)\n",
    "vector"
   ]
  },
  {
   "cell_type": "code",
   "execution_count": 6,
   "id": "98905577-f42d-48b9-9e75-7d3362c13461",
   "metadata": {},
   "outputs": [
    {
     "data": {
      "text/plain": [
       "1"
      ]
     },
     "execution_count": 6,
     "metadata": {},
     "output_type": "execute_result"
    }
   ],
   "source": [
    "# Verificamos las dimensiones del tensor creado anteriormente\n",
    "vector.ndim"
   ]
  },
  {
   "cell_type": "markdown",
   "id": "6bedfe73-53e4-434e-a1a1-1896a32364b3",
   "metadata": {},
   "source": [
    "### Matriz\n",
    "\n",
    "Un tensor del tipo matriz tiene dos dimensiones.\n",
    "Los Tensores (en general) pueden tener más de dos dimensiones."
   ]
  },
  {
   "cell_type": "code",
   "execution_count": 7,
   "id": "f7447284-85de-47dd-a504-f9243b24ffde",
   "metadata": {},
   "outputs": [
    {
     "data": {
      "text/plain": [
       "<tf.Tensor: shape=(3, 2), dtype=int16, numpy=\n",
       "array([[130,   5],\n",
       "       [  3,   6],\n",
       "       [  2,   1]], dtype=int16)>"
      ]
     },
     "execution_count": 7,
     "metadata": {},
     "output_type": "execute_result"
    }
   ],
   "source": [
    "# Creamos una matriz\n",
    "matrix = tf.constant([[130,5],\n",
    "                      [3,6],\n",
    "                      [2,1]], dtype=tf.int16)\n",
    "matrix"
   ]
  },
  {
   "cell_type": "code",
   "execution_count": 8,
   "id": "62d8ce99-dfd1-4271-a274-62a109161974",
   "metadata": {},
   "outputs": [
    {
     "data": {
      "text/plain": [
       "2"
      ]
     },
     "execution_count": 8,
     "metadata": {},
     "output_type": "execute_result"
    }
   ],
   "source": [
    "matrix.ndim"
   ]
  }
 ],
 "metadata": {
  "kernelspec": {
   "display_name": "Python 3 (ipykernel)",
   "language": "python",
   "name": "python3"
  },
  "language_info": {
   "codemirror_mode": {
    "name": "ipython",
    "version": 3
   },
   "file_extension": ".py",
   "mimetype": "text/x-python",
   "name": "python",
   "nbconvert_exporter": "python",
   "pygments_lexer": "ipython3",
   "version": "3.10.8"
  }
 },
 "nbformat": 4,
 "nbformat_minor": 5
}
