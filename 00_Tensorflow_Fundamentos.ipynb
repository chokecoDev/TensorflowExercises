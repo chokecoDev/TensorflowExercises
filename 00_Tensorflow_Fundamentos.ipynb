{
 "cells": [
  {
   "cell_type": "markdown",
   "id": "2f71fa23-7418-4a77-97cc-7b4d31195fb9",
   "metadata": {},
   "source": [
    "# Fundamentos de TensorFlow\n",
    "En este notebook se verá conceptos básico sobre Tensorflow"
   ]
  },
  {
   "cell_type": "code",
   "execution_count": 1,
   "id": "32e2015e-be51-462e-8ebf-848f836b5e91",
   "metadata": {},
   "outputs": [],
   "source": [
    "# Importamos Tensorflow\n",
    "import tensorflow as tf"
   ]
  },
  {
   "cell_type": "code",
   "execution_count": 4,
   "id": "22bad945-48eb-4d6f-977e-11805cfb612c",
   "metadata": {},
   "outputs": [
    {
     "name": "stdout",
     "output_type": "stream",
     "text": [
      "2.10.1\n"
     ]
    }
   ],
   "source": [
    "# Verificamos la versión que vamos a usar\n",
    "print(tf.__version__)"
   ]
  },
  {
   "cell_type": "code",
   "execution_count": null,
   "id": "c6032cb2-d635-4cec-bc02-d7316059b5f2",
   "metadata": {},
   "outputs": [],
   "source": []
  }
 ],
 "metadata": {
  "kernelspec": {
   "display_name": "Python 3 (ipykernel)",
   "language": "python",
   "name": "python3"
  },
  "language_info": {
   "codemirror_mode": {
    "name": "ipython",
    "version": 3
   },
   "file_extension": ".py",
   "mimetype": "text/x-python",
   "name": "python",
   "nbconvert_exporter": "python",
   "pygments_lexer": "ipython3",
   "version": "3.10.8"
  }
 },
 "nbformat": 4,
 "nbformat_minor": 5
}
